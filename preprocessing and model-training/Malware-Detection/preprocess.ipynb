{
 "cells": [
  {
   "cell_type": "code",
   "execution_count": null,
   "metadata": {
    "colab": {
     "base_uri": "https://localhost:8080/"
    },
    "id": "T88aIu83x6Zx",
    "outputId": "eb5fa4f7-5022-48b9-af36-a63fa2a15a0f"
   },
   "outputs": [],
   "source": [
    "git clone https://github.com/Pyran1/MalwareDatabase\n",
    "# this is a collection of malware that we will use as an example of a dataset"
   ]
  },
  {
   "cell_type": "markdown",
   "metadata": {},
   "source": [
    "# Organizing subfolders into folders , assuming \"MalwareDatabase\" is your malwares folder\n"
   ]
  },
  {
   "cell_type": "code",
   "execution_count": null,
   "metadata": {
    "colab": {
     "base_uri": "https://localhost:8080/"
    },
    "id": "yNqAVLWy3fFf",
    "outputId": "9167ee49-0b53-4037-86bd-66fdacda6c12"
   },
   "outputs": [],
   "source": [
    "source_path = r'./MalwareDatabase'\n",
    "destination_path = r'./organized_malwareCONCAT'\n",
    "for item in os.listdir(source_path):\n",
    "        item_path = os.path.join(source_path, item)\n",
    "        if os.path.isdir(item_path) and \".git\" not in item_path:\n",
    "          root,subdir,files = list(os.walk(item_path))[0]\n",
    "          print(root)\n",
    "          if len(subdir) != 0:\n",
    "            dest_dir = os.path.join(destination_path, os.path.basename(root))\n",
    "            os.makedirs(dest_dir, exist_ok=True)\n",
    "            for sd in subdir:\n",
    "              subfolder_path=os.path.join(root,sd)\n",
    "              for file in os.listdir(subfolder_path):\n",
    "                source_file = os.path.join(subfolder_path, file)\n",
    "                dest_file = os.path.join(dest_dir, file)\n",
    "                shutil.copy(source_file, dest_file)\n",
    "                print(f\"Moved {source_file} to {dest_file}\")\n",
    "          else:\n",
    "            dest_dir = os.path.join(destination_path, os.path.basename(root))\n",
    "            os.makedirs(dest_dir, exist_ok=True)\n",
    "            for file in os.listdir(root):\n",
    "              source_file = os.path.join(root, file)\n",
    "              dest_file = os.path.join(dest_dir, file)\n",
    "              shutil.copy(source_file, dest_file)\n",
    "              print(f\"Moved {source_file} to {dest_file}\")\n"
   ]
  },
  {
   "cell_type": "markdown",
   "metadata": {},
   "source": [
    "# unzipping the compressed files \n"
   ]
  },
  {
   "cell_type": "code",
   "execution_count": null,
   "metadata": {},
   "outputs": [],
   "source": [
    "import os\n",
    "import subprocess\n",
    "\n",
    "organized_malware_path = r'./organized_malwareCONCAT'\n",
    "unzip_destination = r'./unzipped_malwares'\n",
    "password = \"infected\"  # Password for encrypted files\n",
    "\n",
    "for root, dirs, files in os.walk(organized_malware_path):\n",
    "    for file in files:\n",
    "        file_path = os.path.join(root, file)\n",
    "\n",
    "        if file.endswith(('.zip', '.7z', '.rar')): \n",
    "            dest_dir = os.path.join(unzip_destination, os.path.relpath(root, organized_malware_path))\n",
    "            os.makedirs(dest_dir, exist_ok=True)\n",
    "            \n",
    "            # Unzip the file using 7-Zip\n",
    "            try:\n",
    "                subprocess.run(\n",
    "                    [r\"C:\\Program Files\\7-Zip\\7z.exe\", \"x\", file_path, f\"-o{dest_dir}\", f\"-p{password}\"],\n",
    "                    check=True\n",
    "                )\n",
    "                print(f\"Unzipped {file_path} to {dest_dir}\")\n",
    "            except subprocess.CalledProcessError as e:\n",
    "                print(f\"Failed to unzip {file_path} with 7-Zip: {e}\")\n"
   ]
  },
  {
   "cell_type": "markdown",
   "metadata": {},
   "source": [
    "# check that no folder contains a subfolder"
   ]
  },
  {
   "cell_type": "code",
   "execution_count": null,
   "metadata": {
    "colab": {
     "base_uri": "https://localhost:8080/"
    },
    "id": "XdHrGI-A5kTU",
    "outputId": "e252d944-1f05-44b5-cf02-b7534043cde3"
   },
   "outputs": [],
   "source": [
    "\n",
    "import os\n",
    "import shutil  \n",
    "\n",
    "\n",
    "source_path = r'./unzipped_malwares'\n",
    "\n",
    "\n",
    "for item in os.listdir(source_path):\n",
    "  item_path = os.path.join(source_path, item)\n",
    "  if os.path.isdir(item_path):\n",
    "    for root, dirs, files in os.walk(item_path):\n",
    "      if dirs:  # Check if the 'dirs' list is not empty\n",
    "        for i in range(len(dirs)):\n",
    "          print(f\"Folder '{item}' contains subfolders: {dirs[i]}\")\n",
    "          shutil.rmtree(os.path.join(item_path,dirs[i]))\n"
   ]
  },
  {
   "cell_type": "markdown",
   "metadata": {},
   "source": [
    "# converting the binary files into images \n"
   ]
  },
  {
   "cell_type": "code",
   "execution_count": null,
   "metadata": {},
   "outputs": [],
   "source": [
    "import os\n",
    "import numpy as np\n",
    "from PIL import Image\n",
    "\n",
    "def hex2img(array, output_img_path):\n",
    "    if array.shape[1] != 16:  \n",
    "        raise ValueError(f\"Expected array shape to have 2nd dimension of size 16, but got {array.shape[1]}\")\n",
    "\n",
    "    b = int((array.shape[0] * 16) ** (0.5))\n",
    "    b = 2 ** (int(np.log2(b)) + 1)\n",
    "    a = int(array.shape[0] * 16 / b)\n",
    "    print(a, b, array.shape)\n",
    "\n",
    "    array = array[:a * b // 16, :]\n",
    "    array = np.reshape(array, (a, b))\n",
    "\n",
    "    im = Image.fromarray(np.uint8(array))\n",
    "\n",
    "    im = im.resize((224, 224), Image.LANCZOS)\n",
    "\n",
    "    im.save(output_img_path, \"PNG\")\n",
    "    return im\n",
    "\n",
    "unzipped_malwares_path = r'unzipped_malwares'\n",
    "malware_image_path = r'malware_Image'\n",
    "\n",
    "os.makedirs(malware_image_path, exist_ok=True)\n",
    "\n",
    "binary_extensions = [\n",
    "    '.exe', '.dll', '.macho', '.hta', '.wsf', '.apk', '.msi', '.bat', '.cmd',\n",
    "    '.xlam', '.arj', '.r00', '.ppam', '.7z', '.zip', '.html', '.xls', '.xz',\n",
    "    '.r07', '.gz', '.sh', '.pdf', '.lnk', '.a', '.docx', '.jar', '.com', '.z',\n",
    "    '.php', '.img', '.r09', '.iso', '.unknown', '.js', '.xlsm', '.rtf', '.elf',\n",
    "    '.xlsx', '.bin', '.rar', '.docm', '.ps1', '.vbs', '.doc', '.class'\n",
    "]\n",
    "\n",
    "for root, dirs, files in os.walk(unzipped_malwares_path):\n",
    "    for name in files:\n",
    "        if any(name.endswith(ext) for ext in binary_extensions):  # Check against the new list of extensions\n",
    "            file_path = os.path.join(root, name)\n",
    "            relative_path = os.path.relpath(root, unzipped_malwares_path)\n",
    "            output_folder = os.path.join(malware_image_path, relative_path)\n",
    "            os.makedirs(output_folder, exist_ok=True)\n",
    "\n",
    "            print(f'Processing binary file: {file_path}')\n",
    "            with open(file_path, 'rb') as f:\n",
    "                file_data = bytearray(f.read())\n",
    "\n",
    "            hex_array = []\n",
    "            for count, byte in enumerate(file_data):\n",
    "                hex_value = f'{byte:02x}' \n",
    "                hex_array.append(hex_value)\n",
    "\n",
    "            array = []\n",
    "            for i in range(0, len(hex_array), 16):\n",
    "                if i + 16 <= len(hex_array):  # Ensure there are enough elements\n",
    "                    row = [int(hex_array[j], 16) for j in range(i, i + 16)]\n",
    "                    array.append(row)\n",
    "\n",
    "            if not array:\n",
    "                print(f\"No valid hex data for file: {file_path}\")\n",
    "                continue\n",
    "\n",
    "            array = np.array(array)\n",
    "\n",
    "            output_image_path = os.path.join(output_folder, name.split('.')[0] + \".png\")\n",
    "            hex2img(array, output_image_path)\n",
    "            print(f\"Image saved at: {output_image_path}\")\n"
   ]
  },
  {
   "cell_type": "code",
   "execution_count": null,
   "metadata": {},
   "outputs": [],
   "source": [
    "import os\n",
    "import shutil\n",
    "\n",
    "def copy_folders_with_min_files(data_dir, min_files, destination_dir):\n",
    "    \"\"\"\n",
    "    Traverses the subfolders of the given directory, checks if they contain\n",
    "    at least `min_files` files, and copies those subfolders to a destination directory.\n",
    "\n",
    "    Parameters:\n",
    "    - data_dir: str, the path of the directory to traverse.\n",
    "    - min_files: int, the minimum number of files a subfolder should have to be copied.\n",
    "    - destination_dir: str, the path to the destination folder where qualified subfolders will be copied.\n",
    "    \"\"\"\n",
    "    os.makedirs(destination_dir, exist_ok=True)\n",
    "\n",
    "    for root, dirs, files in os.walk(data_dir):\n",
    "        num_files = len(files)  \n",
    "        if num_files >= min_files:\n",
    "            relative_path = os.path.relpath(root, data_dir)\n",
    "            destination_path = os.path.join(destination_dir, relative_path)\n",
    "\n",
    "            shutil.copytree(root, destination_path)\n",
    "\n",
    "            print(f\"Copied folder: {root} - {num_files} files to {destination_path}\")\n",
    "\n",
    "data_dir = r'malware_Image' \n",
    "min_files = 20 \n",
    "destination_dir = r'malware_Image_richer_class'  \n",
    "\n",
    "copy_folders_with_min_files(data_dir, min_files, destination_dir)\n"
   ]
  },
  {
   "cell_type": "code",
   "execution_count": null,
   "metadata": {},
   "outputs": [],
   "source": []
  },
  {
   "cell_type": "code",
   "execution_count": null,
   "metadata": {},
   "outputs": [],
   "source": [
    "import numpy as np\n",
    "import matplotlib.pyplot as plt\n",
    "from tensorflow.keras.models import load_model\n",
    "from tensorflow.keras.preprocessing import image\n",
    "import os\n",
    "\n",
    "# Path to the image to be predicted\n",
    "image_path = r'malware_Image\\7z\\40f4034a2b5d7721785bcae61fe4d8ca5986ac44955f632bc1585c8df39509bc.png'\n",
    "\n",
    "# Load the model (with the correct path to the saved model)\n",
    "model = load_model('malware_model_checkpoints.h5.keras')\n",
    "\n",
    "# Load the class labels from the previous training (using the `train_gen.class_indices`)\n",
    "class_names = list(train_gen.class_indices.keys())\n",
    "\n",
    "# Load and preprocess the image\n",
    "img = image.load_img(image_path, target_size=(256, 256))  # Resize to the target size\n",
    "img_array = image.img_to_array(img)  # Convert image to numpy array\n",
    "img_array = np.expand_dims(img_array, axis=0)  # Add batch dimension\n",
    "img_array = img_array / 255.0  # Normalize the image to [0, 1] range\n",
    "\n",
    "# Make prediction\n",
    "predictions = model.predict(img_array)\n",
    "predicted_class = np.argmax(predictions, axis=1)\n",
    "\n",
    "# Display the image and the prediction\n",
    "plt.figure(figsize=(6, 6))\n",
    "plt.imshow(img)\n",
    "plt.title(f'Predicted Class: {class_names[predicted_class[0]]}')\n",
    "plt.axis('off')  # Hide axes for better visualization\n",
    "plt.show()\n",
    "\n",
    "# Print the predicted class\n",
    "print(f'Predicted class: {class_names[predicted_class[0]]}')\n"
   ]
  },
  {
   "cell_type": "markdown",
   "metadata": {
    "id": "s9tk5zd4UVL7"
   },
   "source": [
    "#Note to Self: Tomorrow load MyDrive/TSYP_2024/organized_malwareCONCAT\n",
    "\n",
    "##pass the unzipper on it.the subfold_remover on it then the image converter on it\n",
    "#do it for atleast 4 folders so that it's doable since the whole data is 7 hours of processing\n",
    "\n",
    "#then pass it on the train code!"
   ]
  }
 ],
 "metadata": {
  "colab": {
   "provenance": []
  },
  "kernelspec": {
   "display_name": "CNN",
   "language": "python",
   "name": "python3"
  },
  "language_info": {
   "codemirror_mode": {
    "name": "ipython",
    "version": 3
   },
   "file_extension": ".py",
   "mimetype": "text/x-python",
   "name": "python",
   "nbconvert_exporter": "python",
   "pygments_lexer": "ipython3",
   "version": "3.9.20"
  }
 },
 "nbformat": 4,
 "nbformat_minor": 0
}
