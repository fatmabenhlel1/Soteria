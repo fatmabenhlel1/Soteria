{
 "cells": [
  {
   "cell_type": "markdown",
   "metadata": {},
   "source": [
    "### Initial Observations"
   ]
  },
  {
   "cell_type": "markdown",
   "metadata": {},
   "source": [
    "Due to the complex nature of computer security, CybORG's raw observations contain a lot of information presented in a standardised format which takes the form of a series of nested dictionaries and lists. It is recommended you use prettyprint whenever printing a CybORG observation.\n",
    "\n",
    "We will begin by instantiating CybORG and looking at Red's initial observation."
   ]
  },
  {
   "cell_type": "code",
   "execution_count": null,
   "metadata": {},
   "outputs": [],
   "source": [
    "import random\n",
    "import inspect\n",
    "from os.path import dirname\n",
    "from pprint import pprint\n",
    "\n",
    "from CybORG import CybORG\n",
    "from CybORG.Simulator.Scenarios import FileReaderScenarioGenerator\n",
    "\n",
    "path = inspect.getfile(CybORG)\n",
    "path = dirname(path) + f'/Simulator/Scenarios/scenario_files/Scenario1b.yaml'\n",
    "sg = FileReaderScenarioGenerator(path)\n",
    "cyborg = CybORG(scenario_generator=sg)\n",
    "\n",
    "env = CybORG(sg)\n",
    "\n",
    "results = env.reset(agent='Blue')\n",
    "obs = results.observation\n",
    "pprint(obs)"
   ]
  },
  {
   "cell_type": "markdown",
   "metadata": {},
   "source": [
    "The dictionary above has two keys: 'success' and 'User0'. The success value indicates whether the previous action ran successfully, or whether it encountered an error. Since this is the start of the scenario, the success value is set to UNKNOWN.\n",
    "\n",
    "The key 'User0' is a hostid, indicating its corresponding value is data about that host. Here the hostid is equal to the name of the host, altough hostids can also be ip_addresses depending on the previous action.\n",
    "\n",
    "We will now take a closer look  examine the 'User0' dictionary."
   ]
  },
  {
   "cell_type": "code",
   "execution_count": null,
   "metadata": {},
   "outputs": [],
   "source": [
    "pprint(obs['User0'])"
   ]
  },
  {
   "cell_type": "markdown",
   "metadata": {},
   "source": [
    "The 'User0' dictionary contains information about the host 'User0'. 'Interfaces' gives us networking information such as the host's ip address, which is randomized each scenario. 'Processes' lets us know any security-relevant processes running on the host that Red knows about; in this case Red begins with a SYSTEM level shell on User0. 'Sessions' lets us know any shells Red is aware of. Again, we can see it only sees its own starting shell. Finally, 'System info' tells us information about the operating system. For example, it is running Windows Server 2008 and has hostname 'User0'.\n",
    "\n",
    "You may notice that 'Interface', 'Processes' and 'Sessions' all have lists as values. This is because a host can and usually will have multiple of these running at the same time.\n",
    "\n",
    "We can now look at Blue's initial observation by calling the get_observation() method. Blue has access to the entire network so its initial observation is huge thus we will initially only print out the keys."
   ]
  },
  {
   "cell_type": "code",
   "execution_count": null,
   "metadata": {},
   "outputs": [],
   "source": [
    "blue_obs = env.get_observation('Blue')\n",
    "\n",
    "print(blue_obs)"
   ]
  },
  {
   "cell_type": "markdown",
   "metadata": {},
   "source": [
    "Printing out Blue's observation for 'User0', we can see it has has a different picture than Red. It has visibility of its own shells, but cannot detect red's."
   ]
  },
  {
   "cell_type": "code",
   "execution_count": null,
   "metadata": {},
   "outputs": [],
   "source": [
    "pprint(blue_obs['User0'])"
   ]
  },
  {
   "cell_type": "markdown",
   "metadata": {},
   "source": [
    "### Red and Blue Observations"
   ]
  },
  {
   "cell_type": "markdown",
   "metadata": {},
   "source": [
    "We will now import a rules-based red agent and run it one step to get a new observation."
   ]
  },
  {
   "cell_type": "code",
   "execution_count": null,
   "metadata": {},
   "outputs": [],
   "source": [
    "from CybORG.Agents import B_lineAgent\n",
    "\n",
    "action_space = results.action_space\n",
    "red_obs = results.observation\n",
    "agent = B_lineAgent()\n",
    "\n",
    "def step_red(obs, verbose=True):\n",
    "    action = agent.get_action(obs,action_space)\n",
    "    results = env.step(action=action,agent='Red')\n",
    "    obs = results.observation\n",
    "    \n",
    "    if verbose:\n",
    "        print('Red Action:',action)\n",
    "        print(76*'-')\n",
    "        pprint(obs)\n",
    "    \n",
    "    return results\n",
    "\n",
    "results = step_red(red_obs)\n",
    "red_obs = results.observation"
   ]
  },
  {
   "cell_type": "markdown",
   "metadata": {},
   "source": [
    "We can see that the agent has performed a 'DiscoverRemoteSystems' action. This represents a network scan discovering active ip addresses on a target subnet. Note these are now the hostids.\n",
    "\n",
    "Note that the observation only contains information relevant to the previous action. We no longer have information given by the initial observation. This is because observations are designed to represent the output of real tools used by cybersecurity professionals, which only give extremely limited information at any one time. See the Wrapper tutorial for ways of gluing observations together to form a coherent picture.\n",
    "\n",
    "Meanwhile because we haven't specified a Blue agent, blue team has been passively monitoring the network. However, it doesn't have any tools to detect Red's subnet scan, so its observation is virtually empty."
   ]
  },
  {
   "cell_type": "code",
   "execution_count": null,
   "metadata": {},
   "outputs": [],
   "source": [
    "print(env.get_observation('Blue'))"
   ]
  },
  {
   "cell_type": "markdown",
   "metadata": {},
   "source": [
    "However, Red's next action is a port scan, which blue is able to detect."
   ]
  },
  {
   "cell_type": "code",
   "execution_count": null,
   "metadata": {},
   "outputs": [],
   "source": [
    "results = step_red(red_obs)\n",
    "red_obs = results.observation\n",
    "\n",
    "blue_obs = env.get_observation('Blue')\n",
    "print(76*'-')\n",
    "print('Blue Observation:')\n",
    "print(76*'.')\n",
    "pprint(blue_obs)\n",
    "print(76*'.')\n",
    "\n"
   ]
  },
  {
   "cell_type": "markdown",
   "metadata": {},
   "source": [
    "Both agents' observations are similar: a flurry of connections to a single ip address as the host is scanned for open ports.\n",
    "\n",
    "The next action is an exploit establishing a shell for Red on 'User1'. Again both teams have similar observations, observing the connections generated by this."
   ]
  },
  {
   "cell_type": "code",
   "execution_count": null,
   "metadata": {},
   "outputs": [],
   "source": [
    "results = step_red(red_obs)\n",
    "red_obs = results.observation\n",
    "\n",
    "blue_obs = env.get_observation('Blue')\n",
    "print(76*'-')\n",
    "print('Blue Observation:')\n",
    "print(76*'.')\n",
    "pprint(blue_obs)"
   ]
  },
  {
   "cell_type": "markdown",
   "metadata": {},
   "source": [
    "Note that there is a 5% chance that Red's exploit fails to register to be detected by Blue."
   ]
  },
  {
   "cell_type": "markdown",
   "metadata": {},
   "source": [
    "The final action in this demo sees Red execute a privilege escalation. Red gets a SYSTEM shell, but Blue is unable to see this activity whatsoever."
   ]
  },
  {
   "cell_type": "code",
   "execution_count": null,
   "metadata": {},
   "outputs": [],
   "source": [
    "results = step_red(red_obs)\n",
    "red_obs = results.observation\n",
    "\n",
    "blue_obs = env.get_observation('Blue')\n",
    "print(76*'-')\n",
    "print('Blue Observation:')\n",
    "print(76*'.')\n",
    "pprint(blue_obs)"
   ]
  },
  {
   "cell_type": "markdown",
   "metadata": {},
   "source": [
    "Fortunately for Blue, Red's Privilege Escalation leaves malware on the system which can be detected using the Analyse action."
   ]
  },
  {
   "cell_type": "code",
   "execution_count": null,
   "metadata": {},
   "outputs": [],
   "source": [
    "from CybORG.Simulator.Actions import Analyse\n",
    "\n",
    "host = env.get_last_action('Red').hostname\n",
    "action = Analyse(session=0,agent='Blue',hostname=host)\n",
    "\n",
    "results = env.step(action=action,agent='Blue')\n",
    "\n",
    "pprint(results.observation)"
   ]
  },
  {
   "cell_type": "markdown",
   "metadata": {},
   "source": [
    "Here we see 'User1' has a 'Files' key. The correspending dictionary has been passed through a tool and the 'Density' parameter indicates a high probability this is malware."
   ]
  },
  {
   "cell_type": "code",
   "execution_count": null,
   "metadata": {},
   "outputs": [],
   "source": []
  }
 ],
 "metadata": {
  "kernelspec": {
   "display_name": "Python 3 (ipykernel)",
   "language": "python",
   "name": "python3"
  },
  "language_info": {
   "codemirror_mode": {
    "name": "ipython",
    "version": 3
   },
   "file_extension": ".py",
   "mimetype": "text/x-python",
   "name": "python",
   "nbconvert_exporter": "python",
   "pygments_lexer": "ipython3",
   "version": "3.12.0"
  }
 },
 "nbformat": 4,
 "nbformat_minor": 4
}
