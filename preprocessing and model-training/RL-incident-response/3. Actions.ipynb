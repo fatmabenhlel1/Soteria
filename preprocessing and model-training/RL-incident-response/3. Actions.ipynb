{
 "cells": [
  {
   "cell_type": "markdown",
   "metadata": {},
   "source": [
    "### CybORG Action Space"
   ]
  },
  {
   "cell_type": "markdown",
   "metadata": {},
   "source": [
    "Without the use of wrappers,  CybORG actions need to be constructed by the agent before being passed in. If you are not interested this we suggest you skip to the wrapper tutorial.\n",
    "\n",
    "The action space is updated every step and can be found as a dictionary in the results object. Because this dictionary is quite large, we will only print the keys below."
   ]
  },
  {
   "cell_type": "code",
   "execution_count": 74,
   "metadata": {},
   "outputs": [
    {
     "name": "stdout",
     "output_type": "stream",
     "text": [
      "dict_keys(['action', 'subnet', 'ip_address', 'session', 'username', 'password', 'process', 'port', 'target_session', 'agent', 'hostname'])\n"
     ]
    }
   ],
   "source": [
    "import random\n",
    "\n",
    "import inspect\n",
    "from os.path import dirname\n",
    "from pprint import pprint\n",
    "\n",
    "from CybORG import CybORG\n",
    "from CybORG.Simulator.Scenarios import FileReaderScenarioGenerator\n",
    "\n",
    "path = inspect.getfile(CybORG)\n",
    "path = dirname(path) + f'/Simulator/Scenarios/scenario_files/Scenario1b.yaml'\n",
    "sg = FileReaderScenarioGenerator(path)\n",
    "env = CybORG(scenario_generator=sg)\n",
    "\n",
    "results = env.reset(agent='Red')\n",
    "action_space = results.action_space\n",
    "pprint(action_space.keys())"
   ]
  },
  {
   "cell_type": "markdown",
   "metadata": {},
   "source": [
    "The CybORG action space is divided into \"actions\" and \"parameters\". Actions represent the use of specific cyber tools (for example a network scanning tool like nmap), while parameters represent the inputs the tool requires to function (to scan the interfaces of a host with nmap, you need to provide the ip address of the host).\n",
    "\n",
    "The \"actions\" are located under the 'action' key in the action_space dictionary."
   ]
  },
  {
   "cell_type": "code",
   "execution_count": 75,
   "metadata": {},
   "outputs": [
    {
     "name": "stdout",
     "output_type": "stream",
     "text": [
      "{<class 'CybORG.Simulator.Actions.Action.Sleep'>: True,\n",
      " <class 'CybORG.Simulator.Actions.AbstractActions.DiscoverRemoteSystems.DiscoverRemoteSystems'>: True,\n",
      " <class 'CybORG.Simulator.Actions.AbstractActions.DiscoverNetworkServices.DiscoverNetworkServices'>: True,\n",
      " <class 'CybORG.Simulator.Actions.AbstractActions.ExploitRemoteService.ExploitRemoteService'>: True,\n",
      " <class 'CybORG.Simulator.Actions.AbstractActions.PrivilegeEscalate.PrivilegeEscalate'>: True,\n",
      " <class 'CybORG.Simulator.Actions.AbstractActions.Impact.Impact'>: True}\n"
     ]
    }
   ],
   "source": [
    "actions = action_space['action']\n",
    "pprint(actions)"
   ]
  },
  {
   "cell_type": "markdown",
   "metadata": {},
   "source": [
    "We can see that our actions are each custom classes that form the keys of the above dictionary. The values specify whether this action is currently valid. In Scenario 1b, this value will always be True.\n",
    "\n",
    "The remaining keys in the scenario dictionary represent different classes of parameters. For example, if we examine the 'ip_address' key we will get a dictionary whose keys are the various ip_addresses on the network. The values are again booleans, which represents whether Red knows about this ip_address or not."
   ]
  },
  {
   "cell_type": "code",
   "execution_count": 76,
   "metadata": {},
   "outputs": [
    {
     "name": "stdout",
     "output_type": "stream",
     "text": [
      "{IPv4Address('10.0.127.65'): False,\n",
      " IPv4Address('10.0.127.71'): False,\n",
      " IPv4Address('10.0.127.73'): False,\n",
      " IPv4Address('10.0.127.76'): False,\n",
      " IPv4Address('10.0.127.78'): False,\n",
      " IPv4Address('10.0.192.180'): False,\n",
      " IPv4Address('10.0.192.181'): False,\n",
      " IPv4Address('10.0.192.184'): False,\n",
      " IPv4Address('10.0.192.185'): False,\n",
      " IPv4Address('10.0.192.187'): False,\n",
      " IPv4Address('10.0.232.17'): False,\n",
      " IPv4Address('10.0.232.20'): False,\n",
      " IPv4Address('10.0.232.21'): True,\n",
      " IPv4Address('10.0.232.25'): False,\n",
      " IPv4Address('10.0.232.26'): False,\n",
      " IPv4Address('10.0.232.29'): False}\n"
     ]
    }
   ],
   "source": [
    "ips = action_space['ip_address']\n",
    "pprint(ips)"
   ]
  },
  {
   "cell_type": "markdown",
   "metadata": {},
   "source": [
    "To construct an action, we choose (or import) an action class, then instantiate it by passing in the necessary parameters."
   ]
  },
  {
   "cell_type": "code",
   "execution_count": 77,
   "metadata": {},
   "outputs": [],
   "source": [
    "import random\n",
    "from CybORG.Simulator.Actions import DiscoverNetworkServices\n",
    "unknown_ips = [ip for ip in ips if not ips[ip]]\n",
    "ip = random.choice(unknown_ips)\n",
    "\n",
    "action = DiscoverNetworkServices(session=0,agent='Red',ip_address=ip)"
   ]
  },
  {
   "cell_type": "markdown",
   "metadata": {},
   "source": [
    "We have deliberately chosen to scan an ip address that Red Agent doesn't know about. Although randomly guessing an ip address to scan is possible in the real world, we have decided it is out of scope for our current implementation and so this action will always fail. If you want to expose your agent to the action space, you should filter out all parameters with False values first."
   ]
  },
  {
   "cell_type": "code",
   "execution_count": 78,
   "metadata": {},
   "outputs": [
    {
     "name": "stdout",
     "output_type": "stream",
     "text": [
      "{'success': <TrinaryEnum.UNKNOWN: 2>}\n"
     ]
    }
   ],
   "source": [
    "results = env.step(action=action,agent='Red')\n",
    "print(results.observation)"
   ]
  },
  {
   "cell_type": "markdown",
   "metadata": {},
   "source": [
    "### Red Actions"
   ]
  },
  {
   "cell_type": "markdown",
   "metadata": {},
   "source": [
    "We will now take a detailed look at Red Team's actions and understand what they do. Red's actions are listed below."
   ]
  },
  {
   "cell_type": "code",
   "execution_count": 79,
   "metadata": {},
   "outputs": [
    {
     "name": "stdout",
     "output_type": "stream",
     "text": [
      "['Sleep',\n",
      " 'DiscoverRemoteSystems',\n",
      " 'DiscoverNetworkServices',\n",
      " 'ExploitRemoteService',\n",
      " 'PrivilegeEscalate',\n",
      " 'Impact']\n"
     ]
    }
   ],
   "source": [
    "pprint([action.__name__ for action in actions if actions[action]])"
   ]
  },
  {
   "cell_type": "markdown",
   "metadata": {},
   "source": [
    "The Sleep action does nothing and requires no parameters."
   ]
  },
  {
   "cell_type": "code",
   "execution_count": 80,
   "metadata": {},
   "outputs": [
    {
     "name": "stdout",
     "output_type": "stream",
     "text": [
      "{'success': <TrinaryEnum.UNKNOWN: 2>}\n"
     ]
    }
   ],
   "source": [
    "from CybORG.Simulator.Actions import *\n",
    "\n",
    "action = Sleep()\n",
    "results = env.step(action=action,agent='Red')\n",
    "print(results.observation)"
   ]
  },
  {
   "cell_type": "markdown",
   "metadata": {},
   "source": [
    "The DiscoverRemoteSystems action represents a ping sweep and takes in a subnet parameter to return all ips active on that subnet. Note how we pull the "
   ]
  },
  {
   "cell_type": "code",
   "execution_count": 81,
   "metadata": {},
   "outputs": [
    {
     "name": "stdout",
     "output_type": "stream",
     "text": [
      "{'10.0.232.17': {'Interface': [{'IP Address': IPv4Address('10.0.232.17'),\n",
      "                                'Subnet': IPv4Network('10.0.232.16/28')}]},\n",
      " '10.0.232.20': {'Interface': [{'IP Address': IPv4Address('10.0.232.20'),\n",
      "                                'Subnet': IPv4Network('10.0.232.16/28')}]},\n",
      " '10.0.232.21': {'Interface': [{'IP Address': IPv4Address('10.0.232.21'),\n",
      "                                'Subnet': IPv4Network('10.0.232.16/28')}]},\n",
      " '10.0.232.25': {'Interface': [{'IP Address': IPv4Address('10.0.232.25'),\n",
      "                                'Subnet': IPv4Network('10.0.232.16/28')}]},\n",
      " '10.0.232.26': {'Interface': [{'IP Address': IPv4Address('10.0.232.26'),\n",
      "                                'Subnet': IPv4Network('10.0.232.16/28')}]},\n",
      " 'success': <TrinaryEnum.TRUE: 1>}\n"
     ]
    }
   ],
   "source": [
    "subnets = action_space['subnet']\n",
    "known_subnets = [subnet for subnet in subnets if subnets[subnet]]\n",
    "subnet = known_subnets[0]\n",
    "\n",
    "action = DiscoverRemoteSystems(subnet = subnet, session=0,agent='Red')\n",
    "results = env.step(action=action,agent='Red')\n",
    "pprint(results.observation)"
   ]
  },
  {
   "cell_type": "markdown",
   "metadata": {},
   "source": [
    "The DiscoverNetworkServices action represents a port scan and takes in an ip address parameter to return a list of open ports and their respective services. These will be represented in the observation as new connections. The Red team must have discovered the ip address using the DiscoverRemoteSystems action in order for this action to succeed."
   ]
  },
  {
   "cell_type": "code",
   "execution_count": 82,
   "metadata": {},
   "outputs": [
    {
     "name": "stdout",
     "output_type": "stream",
     "text": [
      "{'10.0.232.21': {'Interface': [{'IP Address': IPv4Address('10.0.232.21')}],\n",
      "                 'Processes': [{'Connections': [{'local_address': IPv4Address('10.0.232.21'),\n",
      "                                                 'local_port': 22}]},\n",
      "                               {'Connections': [{'local_address': IPv4Address('10.0.232.21'),\n",
      "                                                 'local_port': 21}]}]},\n",
      " 'success': <TrinaryEnum.TRUE: 1>}\n"
     ]
    }
   ],
   "source": [
    "known_ips = [ip for ip in ips if ips[ip]]\n",
    "ip = random.choice(known_ips)\n",
    "action = DiscoverNetworkServices(ip_address=ip,session=0,agent='Red')\n",
    "\n",
    "results = env.step(action=action,agent='Red')\n",
    "pprint(results.observation)"
   ]
  },
  {
   "cell_type": "markdown",
   "metadata": {},
   "source": [
    "The ExploitRemoteService represents the use of a service exploit to obtain a reverse shell on the host. It requires an ip address as an input parameter and creates a new shell on the target host. \n",
    "\n",
    "CybORG actually models several different types of real-world exploits and this action chooses between them depending on the services available and the operating system of the host. This action will only ever succeed if the host's ip address has been discovered by Red team.\n",
    "\n",
    "Usually the shell created by this action will be a shell with user privileges, but some exploits, such as EternalBlue, give SYSTEM access to a windows machine. In this case, performing the Privilege Escalation action afterwards is unnecessary, although our rules-based agents always will."
   ]
  },
  {
   "cell_type": "code",
   "execution_count": 83,
   "metadata": {},
   "outputs": [
    {
     "name": "stdout",
     "output_type": "stream",
     "text": [
      "{'10.0.232.21': {'Interface': [{'IP Address': IPv4Address('10.0.232.21')}],\n",
      "                 'Processes': [{'Connections': [{'Status': <ProcessState.OPEN: 2>,\n",
      "                                                 'local_address': IPv4Address('10.0.232.21'),\n",
      "                                                 'local_port': 22}],\n",
      "                                'Process Type': <ProcessType.SSH: 2>},\n",
      "                               {'Connections': [{'local_address': IPv4Address('10.0.232.21'),\n",
      "                                                 'local_port': 54265,\n",
      "                                                 'remote_address': IPv4Address('10.0.232.21'),\n",
      "                                                 'remote_port': 22}]},\n",
      "                               {'Connections': [{'local_address': IPv4Address('10.0.232.21'),\n",
      "                                                 'local_port': 22,\n",
      "                                                 'remote_address': IPv4Address('10.0.232.21'),\n",
      "                                                 'remote_port': 54265}],\n",
      "                                'Process Type': <ProcessType.SSH: 2>}],\n",
      "                 'Sessions': [{'Agent': 'Red',\n",
      "                               'ID': 1,\n",
      "                               'Type': <SessionType.SSH: 2>,\n",
      "                               'Username': 'vagrant'}],\n",
      "                 'System info': {'Hostname': 'User0',\n",
      "                                 'OSType': <OperatingSystemType.WINDOWS: 2>}},\n",
      " 'success': <TrinaryEnum.TRUE: 1>}\n"
     ]
    }
   ],
   "source": [
    "action = ExploitRemoteService(ip_address=ip,session=0,agent='Red')\n",
    "\n",
    "results = env.step(action=action,agent='Red')\n",
    "pprint(results.observation)"
   ]
  },
  {
   "cell_type": "markdown",
   "metadata": {},
   "source": [
    "The PrivilegeEscalate represents the use of malware to establish a privileged shell with root (Linux) or SYSTEM (Windows) privileges. This action requires a user shell to be on the target host.\n",
    "\n",
    "This action has the potential to reveals information about hosts on other subnets, which can then be scanned and exploited."
   ]
  },
  {
   "cell_type": "code",
   "execution_count": 84,
   "metadata": {},
   "outputs": [
    {
     "name": "stdout",
     "output_type": "stream",
     "text": [
      "{'User0': {'Interface': [{'IP Address': IPv4Address('10.0.232.21'),\n",
      "                          'Interface Name': 'eth0',\n",
      "                          'Subnet': IPv4Network('10.0.232.16/28')}],\n",
      "           'Processes': [{'PID': 3387, 'Username': 'SYSTEM'}],\n",
      "           'Sessions': [{'Agent': 'Red',\n",
      "                         'ID': 0,\n",
      "                         'PID': np.int64(3387),\n",
      "                         'Timeout': 0,\n",
      "                         'Type': <SessionType.RED_ABSTRACT_SESSION: 10>,\n",
      "                         'Username': 'SYSTEM'}]},\n",
      " 'success': <TrinaryEnum.TRUE: 1>}\n"
     ]
    }
   ],
   "source": [
    "hostname = results.observation[str(ip)]['System info']['Hostname']\n",
    "action = PrivilegeEscalate(hostname=hostname,session=0,agent='Red')\n",
    "\n",
    "results = env.step(action=action,agent='Red')\n",
    "pprint(results.observation)"
   ]
  },
  {
   "cell_type": "markdown",
   "metadata": {},
   "source": [
    "The Impact action represents the degredation of services. It requires a hostname input parameter, but will only work on the 'OpServer0' host on the Operational subnet and needs to be continually run in order to have an ongoing effect."
   ]
  },
  {
   "cell_type": "code",
   "execution_count": 85,
   "metadata": {},
   "outputs": [
    {
     "name": "stdout",
     "output_type": "stream",
     "text": [
      "Impact Op_Server0\n",
      "{'success': <TrinaryEnum.TRUE: 1>}\n"
     ]
    }
   ],
   "source": [
    "from CybORG.Agents import B_lineAgent\n",
    "\n",
    "results = env.reset(agent='Red')\n",
    "obs = results.observation\n",
    "action_space = results.action_space\n",
    "agent = B_lineAgent()\n",
    "\n",
    "while True:\n",
    "    action = agent.get_action(obs,action_space)\n",
    "    results = env.step(action=action,agent='Red')\n",
    "    obs = results.observation\n",
    "    \n",
    "    if action.__class__.__name__ == 'Impact':\n",
    "        print(action)\n",
    "        print(obs)\n",
    "        break"
   ]
  },
  {
   "cell_type": "markdown",
   "metadata": {},
   "source": [
    "## Blue Actions"
   ]
  },
  {
   "cell_type": "markdown",
   "metadata": {},
   "source": [
    "We will now take a look at Blue Team's actions and how they interact with those of Red Team."
   ]
  },
  {
   "cell_type": "code",
   "execution_count": 86,
   "metadata": {},
   "outputs": [
    {
     "name": "stdout",
     "output_type": "stream",
     "text": [
      "['Sleep', 'Monitor', 'Analyse', 'Remove', 'Misinform', 'Restore']\n"
     ]
    }
   ],
   "source": [
    "env = CybORG(sg, agents={'Red':B_lineAgent})\n",
    "results = env.reset('Blue')\n",
    "actions = results.action_space['action']\n",
    "\n",
    "pprint([action.__name__ for action in actions if actions[action]])"
   ]
  },
  {
   "cell_type": "markdown",
   "metadata": {},
   "source": [
    "Similar to Red Team, the sleep action for Blue Team has no effect. However, like all Blue Team actions it does have passive monitoring capabilities as explained in the observation tutorial."
   ]
  },
  {
   "cell_type": "code",
   "execution_count": 87,
   "metadata": {},
   "outputs": [
    {
     "name": "stdout",
     "output_type": "stream",
     "text": [
      "{'User0': {'Interface': [{'IP Address': IPv4Address('10.0.170.209')}],\n",
      "           'Processes': [{'Connections': [{'local_address': IPv4Address('10.0.170.209'),\n",
      "                                           'remote_address': IPv4Address('10.0.170.214'),\n",
      "                                           'remote_port': 443}]}],\n",
      "           'System info': {'Architecture': <Architecture.x64: 2>,\n",
      "                           'Hostname': 'User0',\n",
      "                           'OSDistribution': <OperatingSystemDistribution.WINDOWS_SVR_2008: 4>,\n",
      "                           'OSType': <OperatingSystemType.WINDOWS: 2>,\n",
      "                           'OSVersion': <OperatingSystemVersion.W6_1_7601: 13>,\n",
      "                           'position': (28, 30)}},\n",
      " 'User3': {'Interface': [{'IP Address': IPv4Address('10.0.170.209')}],\n",
      "           'Processes': [{'Connections': [{'local_address': IPv4Address('10.0.170.209'),\n",
      "                                           'remote_address': IPv4Address('10.0.170.214'),\n",
      "                                           'remote_port': 443}]},\n",
      "                         {'Connections': [{'local_address': IPv4Address('10.0.170.209'),\n",
      "                                           'local_port': 443,\n",
      "                                           'remote_address': IPv4Address('10.0.170.214'),\n",
      "                                           'remote_port': 50218}]},\n",
      "                         {'PID': 1126}],\n",
      "           'System info': {'Architecture': <Architecture.x64: 2>,\n",
      "                           'Hostname': 'User3',\n",
      "                           'OSDistribution': <OperatingSystemDistribution.UBUNTU: 8>,\n",
      "                           'OSType': <OperatingSystemType.LINUX: 3>,\n",
      "                           'OSVersion': <OperatingSystemVersion.U18_04_3: 6>,\n",
      "                           'position': (60, 20)}},\n",
      " 'success': <TrinaryEnum.UNKNOWN: 2>}\n"
     ]
    }
   ],
   "source": [
    "action = Sleep()\n",
    "\n",
    "for i in range(4):\n",
    "    results = env.step(action=action,agent='Blue')\n",
    "    obs = results.observation\n",
    "    if i == 2:\n",
    "        # The particular obs we want\n",
    "        pprint(obs)"
   ]
  },
  {
   "cell_type": "markdown",
   "metadata": {},
   "source": [
    "As explained by the Observation Tutorial, the Analyse action can detect malware files on a single host. This mimics the use of a malware-detection tool such as DensityScout. Like all of Blue's actions, it requires a hostname parameter.\n",
    "\n",
    "We can see below that the action discovers malware on 'User1' as well as the passive monitoring picking up an exploit used Enterprise 1."
   ]
  },
  {
   "cell_type": "code",
   "execution_count": 88,
   "metadata": {},
   "outputs": [
    {
     "name": "stdout",
     "output_type": "stream",
     "text": [
      "{'Enterprise0': {'Interface': [{'IP Address': IPv4Address('10.0.214.42')}],\n",
      "                 'Processes': [{'Connections': [{'local_address': IPv4Address('10.0.214.42'),\n",
      "                                                 'local_port': 22,\n",
      "                                                 'remote_address': IPv4Address('10.0.170.214'),\n",
      "                                                 'remote_port': 59417}]},\n",
      "                               {'Connections': [{'local_address': IPv4Address('10.0.214.42'),\n",
      "                                                 'local_port': 22,\n",
      "                                                 'remote_address': IPv4Address('10.0.170.214'),\n",
      "                                                 'remote_port': 59551}]},\n",
      "                               {'Connections': [{'local_address': IPv4Address('10.0.214.42'),\n",
      "                                                 'local_port': 22,\n",
      "                                                 'remote_address': IPv4Address('10.0.170.214'),\n",
      "                                                 'remote_port': 59551}]},\n",
      "                               {'Connections': [{'local_address': IPv4Address('10.0.214.42'),\n",
      "                                                 'local_port': 22,\n",
      "                                                 'remote_address': IPv4Address('10.0.170.214'),\n",
      "                                                 'remote_port': 59551}]},\n",
      "                               {'Connections': [{'local_address': IPv4Address('10.0.214.42'),\n",
      "                                                 'local_port': 22,\n",
      "                                                 'remote_address': IPv4Address('10.0.170.214'),\n",
      "                                                 'remote_port': 59551}]},\n",
      "                               {'Connections': [{'local_address': IPv4Address('10.0.214.42'),\n",
      "                                                 'local_port': 22,\n",
      "                                                 'remote_address': IPv4Address('10.0.170.214'),\n",
      "                                                 'remote_port': 59551}]},\n",
      "                               {'Connections': [{'local_address': IPv4Address('10.0.214.42'),\n",
      "                                                 'local_port': 22,\n",
      "                                                 'remote_address': IPv4Address('10.0.170.214'),\n",
      "                                                 'remote_port': 59551}]},\n",
      "                               {'Connections': [{'local_address': IPv4Address('10.0.214.42'),\n",
      "                                                 'local_port': 22,\n",
      "                                                 'remote_address': IPv4Address('10.0.170.214'),\n",
      "                                                 'remote_port': 59551}]},\n",
      "                               {'Connections': [{'local_address': IPv4Address('10.0.214.42'),\n",
      "                                                 'local_port': 22,\n",
      "                                                 'remote_address': IPv4Address('10.0.170.214'),\n",
      "                                                 'remote_port': 59551}]},\n",
      "                               {'Connections': [{'local_address': IPv4Address('10.0.214.42'),\n",
      "                                                 'local_port': 22,\n",
      "                                                 'remote_address': IPv4Address('10.0.170.214'),\n",
      "                                                 'remote_port': 59551}]},\n",
      "                               {'Connections': [{'local_address': IPv4Address('10.0.214.42'),\n",
      "                                                 'local_port': 22,\n",
      "                                                 'remote_address': IPv4Address('10.0.170.214'),\n",
      "                                                 'remote_port': 59551}]},\n",
      "                               {'PID': 1095}],\n",
      "                 'System info': {'Architecture': <Architecture.x64: 2>,\n",
      "                                 'Hostname': 'Enterprise0',\n",
      "                                 'OSDistribution': <OperatingSystemDistribution.UBUNTU: 8>,\n",
      "                                 'OSType': <OperatingSystemType.LINUX: 3>,\n",
      "                                 'OSVersion': <OperatingSystemVersion.U18_04_3: 6>,\n",
      "                                 'position': (30, 55)}},\n",
      " 'success': <TrinaryEnum.TRUE: 1>}\n"
     ]
    }
   ],
   "source": [
    "action = Analyse(hostname='User1',session=0,agent='Blue')\n",
    "\n",
    "for i in range(2):\n",
    "    results = env.step(action=action,agent='Blue')\n",
    "    obs = results.observation\n",
    "    if i == 1:\n",
    "        pprint(obs)"
   ]
  },
  {
   "cell_type": "markdown",
   "metadata": {},
   "source": [
    "The Remove action allows Blue Team to remove any of Red's user-level shells, simulating the act of killing it as a process. It will not remove a privileged shell. This is because privileged shells in Scenario1b are assumed to be persistent, meaning that if you remove them they will immediately come back.\n",
    "\n",
    "We can see below that the Red agent attempts to PrivilegeEscalate, but this fails as its shell has been killed. The next turn it has to re-exploit the machine. Notice the use of the get_last_action method to work out what Red's last move was."
   ]
  },
  {
   "cell_type": "code",
   "execution_count": 89,
   "metadata": {},
   "outputs": [
    {
     "name": "stdout",
     "output_type": "stream",
     "text": [
      "{'success': <TrinaryEnum.TRUE: 1>}\n",
      "-------------------------------------------------------------------------\n",
      "PrivilegeEscalate Enterprise0\n",
      "*************************************************************************\n",
      "{'success': <TrinaryEnum.TRUE: 1>}\n",
      "-------------------------------------------------------------------------\n",
      "DiscoverRemoteSystems 10.0.214.32/28\n",
      "*************************************************************************\n"
     ]
    }
   ],
   "source": [
    "action = Remove(hostname='Enterprise1', session=0, agent='Blue')\n",
    "\n",
    "for i in range(2):\n",
    "    results = env.step(action=action,agent='Blue')\n",
    "    obs = results.observation\n",
    "    pprint(obs)\n",
    "    print(73*'-')\n",
    "    print(env.get_last_action('Red'))\n",
    "    print(73*'*')"
   ]
  },
  {
   "cell_type": "markdown",
   "metadata": {},
   "source": [
    "The Restore action represents reverting the system to a known baseline. This will restore a host to the state it was at the beginning of the game. This will wipe all of Red's shells away, with the notable exception of Red's starting host 'User0', which has been baselined into the system. Although Restore is more powerful than Remove, it necessarily causes some disruption on the network so has a large negative penalty associated by using it.\n",
    "\n",
    "Below we can see that the Analyse action detects malware on 'User1', but this disappears after restore has been used."
   ]
  },
  {
   "cell_type": "code",
   "execution_count": 90,
   "metadata": {},
   "outputs": [
    {
     "name": "stdout",
     "output_type": "stream",
     "text": [
      "{'success': <TrinaryEnum.TRUE: 1>}\n",
      "{'success': <TrinaryEnum.TRUE: 1>}\n",
      "{'success': <TrinaryEnum.TRUE: 1>}\n"
     ]
    }
   ],
   "source": [
    "for i in range(10):\n",
    "    env.step() # So Red's actions don't interfere\n",
    "\n",
    "action = Analyse(hostname='User1', session=0, agent='Blue')\n",
    "results = env.step(action=action,agent='Blue')\n",
    "obs = results.observation\n",
    "pprint(obs)\n",
    "    \n",
    "action = Restore(hostname='User1', session=0, agent='Blue')\n",
    "results = env.step(action=action,agent='Blue')\n",
    "obs = results.observation\n",
    "pprint(obs)\n",
    "\n",
    "action = Analyse(hostname='User1', session=0, agent='Blue')\n",
    "obs = results.observation\n",
    "pprint(obs)"
   ]
  },
  {
   "cell_type": "markdown",
   "metadata": {},
   "source": [
    "### Miscellany"
   ]
  },
  {
   "cell_type": "markdown",
   "metadata": {},
   "source": [
    "If you create an action that doesn't make any sense within the current scenario, CybORG will accept it, but automatically convert it to an Invalid Action. These actions automatically give a reward of -0.1."
   ]
  },
  {
   "cell_type": "code",
   "execution_count": 91,
   "metadata": {},
   "outputs": [
    {
     "name": "stdout",
     "output_type": "stream",
     "text": [
      "InvalidAction\n",
      "-13.1\n"
     ]
    }
   ],
   "source": [
    "action = Analyse(hostname = \"Uncle Ted's Macbook\", session = 1.1, agent='Cyan')\n",
    "\n",
    "results = env.step(action=action,agent='Blue')\n",
    "\n",
    "print(results.action)\n",
    "print(results.reward)"
   ]
  }
 ],
 "metadata": {
  "kernelspec": {
   "display_name": "Python 3 (ipykernel)",
   "language": "python",
   "name": "python3"
  },
  "language_info": {
   "codemirror_mode": {
    "name": "ipython",
    "version": 3
   },
   "file_extension": ".py",
   "mimetype": "text/x-python",
   "name": "python",
   "nbconvert_exporter": "python",
   "pygments_lexer": "ipython3",
   "version": "3.12.0"
  }
 },
 "nbformat": 4,
 "nbformat_minor": 4
}
