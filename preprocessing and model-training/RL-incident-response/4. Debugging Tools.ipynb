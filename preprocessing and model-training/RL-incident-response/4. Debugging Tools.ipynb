{
 "cells": [
  {
   "cell_type": "markdown",
   "metadata": {},
   "source": [
    "### The True State"
   ]
  },
  {
   "cell_type": "markdown",
   "metadata": {},
   "source": [
    "In order to help users understand what is going on, it is necessary to be able to pull out the true state of the network at any time. This is obtained by calling the get_agent_state method and passing in 'True'. Since this observation is huge, we will focus on 'User0'."
   ]
  },
  {
   "cell_type": "code",
   "execution_count": null,
   "metadata": {},
   "outputs": [],
   "source": [
    "import random\n",
    "import inspect\n",
    "from os.path import dirname\n",
    "from pprint import pprint\n",
    "from os.path import dirname\n",
    "from CybORG import CybORG\n",
    "from CybORG.Agents import B_lineAgent\n",
    "from CybORG.Simulator.Scenarios import FileReaderScenarioGenerator\n",
    "\n",
    "path = inspect.getfile(CybORG)\n",
    "path = dirname(path) + f'/Simulator/Scenarios/scenario_files/Scenario1b.yaml'\n",
    "sg = FileReaderScenarioGenerator(path)\n",
    "env = CybORG(scenario_generator=sg, agents={'Red':B_lineAgent()})\n",
    "\n",
    "results = env.reset(agent='Blue')\n",
    "\n",
    "true_state = env.get_agent_state('True')\n",
    "pprint(true_state['User0'])\n",
    "print(76*'-')"
   ]
  },
  {
   "cell_type": "markdown",
   "metadata": {},
   "source": [
    "In order to better visualise this, we will import the true_obs_to_table function, which converts this observation into a human-readable table."
   ]
  },
  {
   "cell_type": "code",
   "execution_count": null,
   "metadata": {},
   "outputs": [],
   "source": [
    "from CybORG.Agents.Wrappers.TrueTableWrapper import true_obs_to_table\n",
    "\n",
    "true_table = true_obs_to_table(true_state,env)\n",
    "print(true_table)"
   ]
  },
  {
   "cell_type": "markdown",
   "metadata": {},
   "source": [
    "As red moves throughout the network, we can thus see its progress. Note how the 'User1' exploit gets root immediately."
   ]
  },
  {
   "cell_type": "code",
   "execution_count": null,
   "metadata": {},
   "outputs": [],
   "source": [
    "for i in range(3):\n",
    "    env.step()\n",
    "    true_state = env.get_agent_state('True')\n",
    "    true_table = true_obs_to_table(true_state,env)\n",
    "    print(env.get_last_action('Red'))\n",
    "    print(true_table)\n",
    "    print(76*'-')"
   ]
  },
  {
   "cell_type": "markdown",
   "metadata": {},
   "source": [
    "Blue team then restores 'User1' and we can see Red's access is gone."
   ]
  },
  {
   "cell_type": "code",
   "execution_count": null,
   "metadata": {},
   "outputs": [],
   "source": [
    "from CybORG.Simulator.Actions import Restore\n",
    "action = Restore(hostname='User1',session=0,agent='Blue')\n",
    "env.step(action=action,agent='Blue')\n",
    "\n",
    "true_state = env.get_agent_state('True')\n",
    "true_table = true_obs_to_table(true_state,env)\n",
    "print(true_table)"
   ]
  },
  {
   "cell_type": "markdown",
   "metadata": {},
   "source": [
    "## Other Debugging Tools"
   ]
  },
  {
   "cell_type": "markdown",
   "metadata": {},
   "source": [
    "CybORG has a host of other tools to help understand the agent state. We have already see the get_observation method."
   ]
  },
  {
   "cell_type": "code",
   "execution_count": null,
   "metadata": {},
   "outputs": [],
   "source": [
    "env.reset()\n",
    "env.step()\n",
    "\n",
    "red_obs = env.get_observation('Red')\n",
    "pprint(red_obs)\n",
    "\n",
    "blue_obs = env.get_observation('Blue')\n",
    "pprint(blue_obs)\n",
    "print(76*'-')"
   ]
  },
  {
   "cell_type": "markdown",
   "metadata": {},
   "source": [
    "We have also seen the get_last_action method. Note that since we haven't specified an action or agent for blue it defaults to Sleep."
   ]
  },
  {
   "cell_type": "code",
   "execution_count": null,
   "metadata": {},
   "outputs": [],
   "source": [
    "red_action = env.get_last_action('Red')\n",
    "print(red_action)\n",
    "\n",
    "blue_action = env.get_last_action('Blue')\n",
    "print(blue_action)"
   ]
  },
  {
   "cell_type": "markdown",
   "metadata": {},
   "source": [
    "The get_action_space method allows us to get the action space of any agent."
   ]
  },
  {
   "cell_type": "code",
   "execution_count": null,
   "metadata": {},
   "outputs": [],
   "source": [
    "red_action_space = env.get_action_space('Red')\n",
    "print(list(red_action_space))\n",
    "\n",
    "blue_action_space = env.get_action_space('Blue')\n",
    "print(blue_action_space)"
   ]
  },
  {
   "cell_type": "markdown",
   "metadata": {},
   "source": [
    "The get_ip_map method allows us to see which hostnames are associated with each ip. This is something that is known to Blue, but not to Red at the beginning of the game so be careful to not abuse it."
   ]
  },
  {
   "cell_type": "code",
   "execution_count": null,
   "metadata": {},
   "outputs": [],
   "source": [
    "env.get_ip_map()"
   ]
  },
  {
   "cell_type": "markdown",
   "metadata": {},
   "source": [
    "The get_rewards method allows us to see the rewards for all agents."
   ]
  },
  {
   "cell_type": "code",
   "execution_count": null,
   "metadata": {},
   "outputs": [],
   "source": [
    "env.get_rewards()"
   ]
  },
  {
   "cell_type": "markdown",
   "metadata": {},
   "source": [
    "Finally, the set_seed method allows us to set a random seed."
   ]
  },
  {
   "cell_type": "code",
   "execution_count": 10,
   "metadata": {},
   "outputs": [],
   "source": [
    "env.set_seed(100)"
   ]
  },
  {
   "cell_type": "code",
   "execution_count": null,
   "metadata": {},
   "outputs": [],
   "source": []
  }
 ],
 "metadata": {
  "kernelspec": {
   "display_name": "Python 3 (ipykernel)",
   "language": "python",
   "name": "python3"
  },
  "language_info": {
   "codemirror_mode": {
    "name": "ipython",
    "version": 3
   },
   "file_extension": ".py",
   "mimetype": "text/x-python",
   "name": "python",
   "nbconvert_exporter": "python",
   "pygments_lexer": "ipython3",
   "version": "3.12.0"
  }
 },
 "nbformat": 4,
 "nbformat_minor": 4
}
