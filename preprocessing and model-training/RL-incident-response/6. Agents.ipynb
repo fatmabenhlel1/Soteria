{
 "cells": [
  {
   "cell_type": "markdown",
   "metadata": {},
   "source": [
    "### Red Agents"
   ]
  },
  {
   "cell_type": "markdown",
   "metadata": {},
   "source": [
    "Scenario 2 has two rules-based Red Agents. The first is our good friend the B_lineAgent. This represents an actor who has inside information, so is able to beeline straight towards the OpServer."
   ]
  },
  {
   "cell_type": "code",
   "execution_count": null,
   "metadata": {},
   "outputs": [],
   "source": [
    "import random\n",
    "import inspect\n",
    "from os.path import dirname\n",
    "from pprint import pprint\n",
    "\n",
    "from CybORG import CybORG\n",
    "from CybORG.Agents import *\n",
    "from CybORG.Simulator.Actions import *\n",
    "from CybORG.Simulator.Scenarios import FileReaderScenarioGenerator\n",
    "\n",
    "path = inspect.getfile(CybORG)\n",
    "path = dirname(path) + f'/Simulator/Scenarios/scenario_files/Scenario1b.yaml'\n",
    "sg = FileReaderScenarioGenerator(path)\n",
    "\n",
    "env = CybORG(scenario_generator=sg)\n",
    "\n",
    "agent = B_lineAgent()\n",
    "\n",
    "results = env.reset('Red')\n",
    "obs = results.observation\n",
    "action_space = results.action_space\n",
    "\n",
    "for i in range(16):\n",
    "    action = agent.get_action(obs,action_space)\n",
    "    results = env.step(action=action,agent='Red')\n",
    "    obs = results.observation\n",
    "    \n",
    "    print(action)"
   ]
  },
  {
   "cell_type": "markdown",
   "metadata": {},
   "source": [
    "This agent runs along a predetermined path to the Op_Server, but is smart enough able to recover its position if interrupted. We can see below after Blue Team restores some hosts, the agent works out where the error in and re-exploits its way to the Op_Server."
   ]
  },
  {
   "cell_type": "code",
   "execution_count": null,
   "metadata": {},
   "outputs": [],
   "source": [
    "action = Restore(hostname='Op_Server0',session=0,agent='Blue')\n",
    "env.step(action=action,agent='Blue')\n",
    "\n",
    "action = Restore(hostname='Enterprise2',session=0,agent='Blue')\n",
    "env.step(action=action,agent='Blue')\n",
    "\n",
    "action = Restore(hostname='Enterprise1',session=0,agent='Blue')\n",
    "env.step(action=action,agent='Blue')\n",
    "\n",
    "for i in range(12):\n",
    "    action = agent.get_action(obs,action_space)\n",
    "    results = env.step(action=action,agent='Red')\n",
    "    obs = results.observation\n",
    "            \n",
    "    print(action)\n",
    "    print('Success:',obs['success'])"
   ]
  },
  {
   "cell_type": "markdown",
   "metadata": {},
   "source": [
    "The other red agent is the MeanderAgent. This performs a breadth first search on all known hosts, scanning each one in turn, before attempting a mix of exploit and privilege escalate on the rest. This is an extremely slow agent in contrast to the laser-focussed B_lineAgent."
   ]
  },
  {
   "cell_type": "code",
   "execution_count": null,
   "metadata": {},
   "outputs": [],
   "source": [
    "agent = RedMeanderAgent()\n",
    "\n",
    "results = env.reset('Red')\n",
    "obs = results.observation\n",
    "action_space = results.action_space\n",
    "\n",
    "for i in range(46):\n",
    "    action = agent.get_action(obs,action_space)\n",
    "    results = env.step(action=action,agent='Red')\n",
    "    obs = results.observation\n",
    "    \n",
    "    print(action)"
   ]
  },
  {
   "cell_type": "markdown",
   "metadata": {},
   "source": [
    "The Meander Agent is also able to recover from Blue's disruption."
   ]
  },
  {
   "cell_type": "code",
   "execution_count": null,
   "metadata": {},
   "outputs": [],
   "source": [
    "action = Restore(hostname='Op_Server0',session=0,agent='Blue')\n",
    "env.step(action=action,agent='Blue')\n",
    "\n",
    "action = Restore(hostname='Enterprise2',session=0,agent='Blue')\n",
    "env.step(action=action,agent='Blue')\n",
    "\n",
    "action = Restore(hostname='Enterprise1',session=0,agent='Blue')\n",
    "env.step(action=action,agent='Blue')\n",
    "\n",
    "action = Restore(hostname='Enterprise0',session=0,agent='Blue')\n",
    "env.step(action=action,agent='Blue')\n",
    "\n",
    "for i in range(24):\n",
    "    action = agent.get_action(obs,action_space)\n",
    "    results = env.step(action=action,agent='Red')\n",
    "    obs = results.observation\n",
    "    print(env.get_last_action('Red'))"
   ]
  },
  {
   "cell_type": "markdown",
   "metadata": {},
   "source": [
    "### Blue Agents"
   ]
  },
  {
   "cell_type": "markdown",
   "metadata": {},
   "source": [
    "The BlueReactRemoveAgent will wait until it sees suspicious activity, before using remove on all the hosts it has flagged. However, due to the 5% change that Red's exploit is missed, Red will always eventually get to the Op_Server."
   ]
  },
  {
   "cell_type": "code",
   "execution_count": null,
   "metadata": {},
   "outputs": [],
   "source": [
    "env = CybORG(sg,agents={'Red':B_lineAgent()})\n",
    "\n",
    "agent = BlueReactRemoveAgent()\n",
    "\n",
    "results = env.reset('Blue')\n",
    "obs = results.observation\n",
    "action_space = results.action_space\n",
    "\n",
    "for i in range(12):\n",
    "    action = agent.get_action(obs,action_space)\n",
    "    results = env.step(action=action,agent='Blue')\n",
    "    obs = results.observation\n",
    "    print(env.get_last_action('Blue'))"
   ]
  },
  {
   "cell_type": "markdown",
   "metadata": {},
   "source": [
    "The BlueReactRestoreAgent is the same as the React agent above, but uses the Restore action."
   ]
  },
  {
   "cell_type": "code",
   "execution_count": null,
   "metadata": {},
   "outputs": [],
   "source": [
    "agent = BlueReactRestoreAgent()\n",
    "\n",
    "results = env.reset('Blue')\n",
    "obs = results.observation\n",
    "action_space = results.action_space\n",
    "\n",
    "for i in range(12):\n",
    "    action = agent.get_action(obs,action_space)\n",
    "    results = env.step(action=action,agent='Blue')\n",
    "    obs = results.observation\n",
    "    print(env.get_last_action('Blue'))"
   ]
  },
  {
   "cell_type": "markdown",
   "metadata": {},
   "source": [
    "### Green Agent"
   ]
  },
  {
   "cell_type": "markdown",
   "metadata": {},
   "source": [
    "An important part of CybORG Scenario1b is the Green agent, which represents the users on the network. The Green Agent is very simple, it only performs a scanning action on random hosts some of the time. This is only visible by Blue Agent."
   ]
  },
  {
   "cell_type": "code",
   "execution_count": null,
   "metadata": {},
   "outputs": [],
   "source": [
    "agent = GreenAgent()\n",
    "\n",
    "results = env.reset('Green')\n",
    "obs = results.observation\n",
    "action_space = results.action_space\n",
    "\n",
    "for i in range(12):\n",
    "    print(agent.get_action(obs,action_space))"
   ]
  },
  {
   "cell_type": "markdown",
   "metadata": {},
   "source": [
    "### Keyboard Agent"
   ]
  },
  {
   "cell_type": "markdown",
   "metadata": {},
   "source": [
    "The KeyboardAgent allows a human user to manually choose actions. This is useful for getting an intuition for the scenario."
   ]
  },
  {
   "cell_type": "code",
   "execution_count": null,
   "metadata": {},
   "outputs": [],
   "source": [
    "from CybORG.Agents.Wrappers import RedTableWrapper\n",
    "\n",
    "cyborg = CybORG(sg,agents={'Blue':MonitorAgent()})\n",
    "env = RedTableWrapper(env=cyborg, output_mode='table')\n",
    "\n",
    "agent = KeyboardAgent()\n",
    "\n",
    "results = env.reset('Red')\n",
    "obs = results.observation\n",
    "action_space = results.action_space\n",
    "\n",
    "for i in range(3):\n",
    "    print(obs)\n",
    "    action = agent.get_action(obs,action_space)\n",
    "    results = env.step(action=action,agent='Red')\n",
    "    obs = results.observation"
   ]
  },
  {
   "cell_type": "code",
   "execution_count": null,
   "metadata": {},
   "outputs": [],
   "source": []
  }
 ],
 "metadata": {
  "kernelspec": {
   "display_name": "Python 3 (ipykernel)",
   "language": "python",
   "name": "python3"
  },
  "language_info": {
   "codemirror_mode": {
    "name": "ipython",
    "version": 3
   },
   "file_extension": ".py",
   "mimetype": "text/x-python",
   "name": "python",
   "nbconvert_exporter": "python",
   "pygments_lexer": "ipython3",
   "version": "3.9.15"
  }
 },
 "nbformat": 4,
 "nbformat_minor": 4
}
